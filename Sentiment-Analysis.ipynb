{
 "metadata": {
  "name": "",
  "signature": "sha256:dd11ea22704a8f803c89227d51a0ca4485917d492a0075c7ece7d46cd77053a8"
 },
 "nbformat": 3,
 "nbformat_minor": 0,
 "worksheets": [
  {
   "cells": [
    {
     "cell_type": "markdown",
     "metadata": {},
     "source": [
      "Problem Set 1b: Discriminative classification\n",
      "==========\n",
      "\n",
      "- In this problem set, you will build on your code from Part 1a, this time implementing perceptron and logistic regression classifiers. \n",
      "- You'll want to copy in code from the first pset, as needed.\n",
      "- This problem set is scored out of 30 points for CS4650 students, 33 points for CS7650. It counts for six points towards your grade.\n",
      "- Read all the way through before starting, so you can budget your time appropriately."
     ]
    },
    {
     "cell_type": "code",
     "collapsed": false,
     "input": [
      "from __future__ import division\n",
      "import scorer\n",
      "import operator\n",
      "from collections import defaultdict, Counter\n",
      "import matplotlib.pyplot as plt\n",
      "import scipy\n",
      "from scipy.misc import logsumexp\n",
      "import nltk\n",
      "# from nltk.book import *\n",
      "%pylab --no-import-all inline"
     ],
     "language": "python",
     "metadata": {},
     "outputs": [
      {
       "output_type": "stream",
       "stream": "stdout",
       "text": [
        "Populating the interactive namespace from numpy and matplotlib\n"
       ]
      }
     ],
     "prompt_number": 81
    },
    {
     "cell_type": "code",
     "collapsed": false,
     "input": [
      "trainkey = 'train-imdb.key'\n",
      "devkey = 'dev-imdb.key'\n",
      "testkey = 'test-imdb.key'"
     ],
     "language": "python",
     "metadata": {},
     "outputs": []
    },
    {
     "cell_type": "code",
     "collapsed": false,
     "input": [
      "offset = '**OFFSET**'\n",
      "def dataIterator(keyfile):\n",
      "    with open(keyfile.replace('key','bow'),'r') as bows:\n",
      "        with open(keyfile,'r') as keys:\n",
      "            for keyline in keys:\n",
      "                textloc,label = keyline.rstrip().split(' ')\n",
      "                fcounts = {word:int(count) for word,count in\\\n",
      "                           [x.split(':') for x in bows.readline().rstrip().split(' ')]}\n",
      "                fcounts[offset] = 1\n",
      "                yield fcounts,label"
     ],
     "language": "python",
     "metadata": {},
     "outputs": []
    },
    {
     "cell_type": "code",
     "collapsed": false,
     "input": [
      "# for speed, it's better to just read in all the training instances, since they will fit in memory\n",
      "all_tr_insts = []\n",
      "ac_train = Counter()\n",
      "for inst,label in dataIterator(trainkey):\n",
      "    all_tr_insts.append((inst,label))\n",
      "    ac_train += Counter(inst)\n",
      "all_dev_insts = []\n",
      "for inst,label in dataIterator(devkey):\n",
      "    all_dev_insts.append((inst,label))\n",
      "    \n",
      "def weightsInitialize():\n",
      "    weights = defaultdict(float)\n",
      "    for word,value in ac_train.iteritems():\n",
      "        for items in all_labels:\n",
      "            weights.update({(items,word) : 0.0})\n",
      "    for items in all_labels:\n",
      "        weights.update({(items,offset) : 0.0})\n",
      "    return weights"
     ],
     "language": "python",
     "metadata": {},
     "outputs": []
    },
    {
     "cell_type": "code",
     "collapsed": false,
     "input": [
      "# use this to find the highest-scoring label\n",
      "argmax = lambda x : max(x.iteritems(),key=operator.itemgetter(1))[0]"
     ],
     "language": "python",
     "metadata": {},
     "outputs": []
    },
    {
     "cell_type": "code",
     "collapsed": false,
     "input": [
      "# paste your predict function from pset 1a here\n",
      "# you are free to modify it if you can improve it\n",
      "# as before, you should return two outputs: the highest-scoring label, and the scores for all labels\n",
      "def predict(instance,weights,labels):\n",
      "    scores = defaultdict(float)\n",
      "    labelScore = defaultdict(float)\n",
      "    for w , count in instance.iteritems():\n",
      "        for label in labels:\n",
      "            scores[(label)] = scores.get((label),0) + count*weights.get((label,w),0)\n",
      "    return argmax(scores),scores"
     ],
     "language": "python",
     "metadata": {},
     "outputs": []
    },
    {
     "cell_type": "code",
     "collapsed": false,
     "input": [
      "all_labels = ['POS','NEG','NEU']\n",
      "def evalClassifier(weights,outfilename,testfile=devkey):    \n",
      "    with open(outfilename,'w') as outfile:\n",
      "        for counts,label in dataIterator(testfile): #iterate through eval set\n",
      "            print >>outfile, predict(counts,weights,all_labels)[0] #print prediction to file\n",
      "    return scorer.getConfusion(testfile,outfilename) #run the scorer on the prediction file"
     ],
     "language": "python",
     "metadata": {},
     "outputs": []
    },
    {
     "cell_type": "markdown",
     "metadata": {},
     "source": [
      "# 5. Perceptron #\n",
      "\n",
      "Implement a perceptron classifier. Using the feature-function\n",
      "representation, include features for each word-class pair, and also an\n",
      "``offset'' feature for each class. Given a set of word counts $\\vec{x}_i$,\n",
      "a true label $y_i$, and a guessed label $\\hat{y}$, your update will be\n",
      "\\begin{align*}\n",
      "\\hat{y} & \\leftarrow \\text{argmax}_y \\vec{\\theta}' f(\\vec{w}_i,y)\\\\\n",
      "\\vec{\\theta} & \\leftarrow \\vec{\\theta} + f(\\vec{w}_i, y_i) - f(\\vec{w}_i, \\hat{y}).\n",
      "\\end{align*}\n",
      "\n",
      "Please write this yourself -- do not use any libraries, and try not to look\n",
      "at other code online.\n",
      "\n",
      "**Sanity check** If you are not careful, learning can be slow. \n",
      "You may need to think a little about how to do this update efficiently. \n",
      "\n",
      "- On my laptop, I can make 10 passes on the training data in roughly 30 seconds, including evaluating the accuracy on the dev and training sets. \n",
      "- You can use the '%%timeit' cell magic to compute statistics like this.\n",
      "- Your code doesn't have to be as fast as mine, but it needs to be written intelligently, and it needs to be fast enough for you to debug it properly.\n",
      "- The '%%prun' cell magic is also useful for diagnosing speed"
     ]
    },
    {
     "cell_type": "markdown",
     "metadata": {},
     "source": [
      "**Deliverable 5a** (5 points)\n",
      "\n",
      "Implement a function that runs the perceptron for a single iteration (one pass through the training data), using the shell below. Signature:\n",
      "\n",
      "- **Input 1**: training set generator: an object that enables you to iterate through a dataset, such as all_tr_insts\n",
      "- **Input 2**: a dictionary of weights, representing the current classifier at the time you call this function\n",
      "- **Input 3**: a list of all possible labels\n",
      "- **Output 1**: the weights after training\n",
      "- **Output 2**: the number of training errors\n",
      "- **Output 3**: the number of training instances\n",
      "\n",
      "The second and third outputs allow you to compute the *training set accuracy*. This way, you can see whether you are overfitting or underfitting."
     ]
    },
    {
     "cell_type": "code",
     "collapsed": false,
     "input": [
      "''' your code '''\n",
      "\n",
      "def oneItPerceptron(data_generator,weights,labels):\n",
      "    tr_err = 0\n",
      "    for i,(counts,label) in enumerate(data_generator):\n",
      "        predictedLabel, tempDict= predict(counts,weights,labels)\n",
      "        if (predictedLabel) != label:\n",
      "            tr_err += 1\n",
      "            for word,vals in counts.iteritems():\n",
      "                weights[(predictedLabel,word)] =  weights.get((predictedLabel,word)) - vals\n",
      "                weights[(label,word)] = weights.get((label,word)) + vals\n",
      "    return weights, tr_err, i"
     ],
     "language": "python",
     "metadata": {},
     "outputs": []
    },
    {
     "cell_type": "code",
     "collapsed": false,
     "input": [
      "# this code trains the perceptron for N iterations on the supplied training data\n",
      "def trainPerceptron(N_its,inst_generator=all_tr_insts,labels=all_labels):\n",
      "    tr_acc = [None]*N_its #holder for training accuracy\n",
      "    dv_acc = [None]*N_its #holder for dev accuracy\n",
      "    weights = weightsInitialize() \n",
      "    for i in xrange(N_its):\n",
      "        weights,tr_err,tr_tot = oneItPerceptron(inst_generator,weights,labels) #call your function for a single iteration\n",
      "        confusion = evalClassifier(weights,'perc.txt') #evaluate on dev data\n",
      "        dv_acc[i] = scorer.accuracy(confusion) #compute accuracy\n",
      "        tr_acc[i] = 1. - tr_err/float(tr_tot) #compute training accuracy from output\n",
      "        print i,'dev: ',dv_acc[i],'train: ',tr_acc[i] \n",
      "    return weights, tr_acc, dv_acc"
     ],
     "language": "python",
     "metadata": {},
     "outputs": []
    },
    {
     "cell_type": "markdown",
     "metadata": {},
     "source": [
      "**Deliverable 5b** (1 point): Train your classifier on trainkey for ten iterations, and plot the output, using the code in the cells below. "
     ]
    },
    {
     "cell_type": "code",
     "collapsed": false,
     "input": [
      "w_perc,tr_acc_perc,dv_acc_perc = trainPerceptron(10)"
     ],
     "language": "python",
     "metadata": {},
     "outputs": [
      {
       "output_type": "stream",
       "stream": "stdout",
       "text": [
        "0 dev:  0.604 train:  0.465732866433\n",
        "1"
       ]
      },
      {
       "output_type": "stream",
       "stream": "stdout",
       "text": [
        " dev:  0.492 train:  0.591795897949\n",
        "2"
       ]
      },
      {
       "output_type": "stream",
       "stream": "stdout",
       "text": [
        " dev:  0.449 train:  0.63831915958\n",
        "3"
       ]
      },
      {
       "output_type": "stream",
       "stream": "stdout",
       "text": [
        " dev:  0.637 train:  0.700850425213\n",
        "4"
       ]
      },
      {
       "output_type": "stream",
       "stream": "stdout",
       "text": [
        " dev:  0.357 train:  0.754377188594\n",
        "5"
       ]
      },
      {
       "output_type": "stream",
       "stream": "stdout",
       "text": [
        " dev:  0.546 train:  0.768884442221\n",
        "6"
       ]
      },
      {
       "output_type": "stream",
       "stream": "stdout",
       "text": [
        " dev:  0.622 train:  0.794397198599\n",
        "7"
       ]
      },
      {
       "output_type": "stream",
       "stream": "stdout",
       "text": [
        " dev:  0.584 train:  0.834417208604\n",
        "8"
       ]
      },
      {
       "output_type": "stream",
       "stream": "stdout",
       "text": [
        " dev:  0.489 train:  0.865932966483\n",
        "9"
       ]
      },
      {
       "output_type": "stream",
       "stream": "stdout",
       "text": [
        " dev:  0.631 train:  0.878939469735\n"
       ]
      }
     ],
     "prompt_number": 47
    },
    {
     "cell_type": "code",
     "collapsed": false,
     "input": [
      "# this code makes plots of the training and development set accuracy\n",
      "def makePlots(tr_acc,dv_acc):\n",
      "    ax1 = plt.subplot(1,2,1,xlabel='iteration',ylabel='accuracy')\n",
      "    plt.plot(tr_acc,'rx-')\n",
      "    plt.title('training')\n",
      "    plt.subplot(1,2,2,xlabel='iterator',sharey=ax1)\n",
      "    plt.plot(dv_acc,'bx-')\n",
      "    plt.title('development')"
     ],
     "language": "python",
     "metadata": {},
     "outputs": [],
     "prompt_number": 48
    },
    {
     "cell_type": "code",
     "collapsed": false,
     "input": [
      "makePlots(tr_acc_perc,dv_acc_perc)"
     ],
     "language": "python",
     "metadata": {},
     "outputs": [
      {
       "metadata": {},
       "output_type": "display_data",
       "png": "[encoded data removed]",
       "text": [
        "<matplotlib.figure.Figure at 0xb2c83d0>"
       ]
      }
     ],
     "prompt_number": 49
    },
    {
     "cell_type": "markdown",
     "metadata": {},
     "source": [
      "**Sanity check** Your training set accuracy should increase quickly, but your dev set accuracy might be disappointing."
     ]
    },
    {
     "cell_type": "markdown",
     "metadata": {},
     "source": [
      "# 6. Averaged Perceptron #\n",
      "\n",
      "Notice how the dev set performance of the perceptron was very unstable. Now you will try to improve it using averaging.\n",
      "\n",
      "Conceptually, the idea is to keep a running total of the weights, and then divide at the end, after $T$ updates:\n",
      "\n",
      "\\begin{align*}\n",
      "\\hat{y} & \\leftarrow \\text{argmax}_y \\theta' f(\\vec{w}_i,y)\\\\\n",
      "\\theta^t & \\leftarrow \\theta^{t-1} + f(\\vec{w}_i, y_i) - f(\\vec{w}_i, \\hat{y})\\\\\n",
      "\\overline{\\theta} & = \\frac{1}{T} \\theta^T\n",
      "\\end{align*}\n",
      "\n",
      "Then you can use $\\overline{\\theta}$ to make predictions.\n",
      "\n",
      "But in practice, this is very inefficient. You can't store the weights after every update -- it's much too big. But you don't want to compute a running sum either. The reason is that the weight vector will quickly become dense, and this would require $O(\\#F)$ operations at every update, where $\\#F$ is the number of features. This is much more work than the standard perceptron update, which only involves the features that are active in the current instance. In a bag-of-words model, each document will typically have only a small fraction of the total vocabulary, and we would like each update to be linear in the number of features active in the document, not the total number of features.\n",
      "\n",
      "An efficient solution was pointed out by [Daume 2006](http://hal3.name/docs/daume06thesis.pdf). \n",
      "Let $\\delta_t$ indicate the update at time $t$.\n",
      "Then, assuming $\\theta^0 = 0$, we have:\n",
      "\n",
      "\\begin{align*}\n",
      "\\theta^t = & \\theta^{t-1} + \\delta_t \\\\\n",
      "= & \\sum_{t' < t} \\delta_{t'}\n",
      "\\end{align*}\n",
      "\n",
      "We would like to compute the sum of the weight vectors,\n",
      "\\begin{align*}\n",
      "\\sum_t^T \\theta_t = & \\sum_t^T \\sum_{t' \\leq t} \\delta_{t'} = T \\delta_0 + (T-1) \\delta_1 + (T - 2) \\delta_2 + \\ldots + \\delta_T \\\\ \n",
      "= & \\sum_t^T (T - t) \\delta_t\\\\\n",
      "= & T \\sum_t^T \\delta_t - \\sum_t^T t \\delta_t \\\\\n",
      "= & T \\theta_t - \\sum_t^T t \\delta_t \\\\\n",
      "\\frac{1}{T} \\sum_t^T \\theta_t = & \\theta_T - \\frac{1}{T} \\sum_t^T t \\delta_t\n",
      "\\end{align*}\n",
      "\n",
      "This means we need to keep another running sum, $\\sum_t^T t \\delta_t$, the sum of scaled updates. \n",
      "To compute the average, we divide by the number of updates $T$ and subtract it from the current weight vector."
     ]
    },
    {
     "cell_type": "markdown",
     "metadata": {},
     "source": [
      "**Deliverable 6a** (5 points) Implement averaged perceptron, using two functions\n",
      "\n",
      "- an outer loop, trainAvgPerceptron, which should have the same inputs and outputs as my trainPerceptron above\n",
      "- an inner loop, oneItAvgPerceptron, which makes a single pass through the training data. To do weight averaging, this function may have to take some additional arguments and offer some additional outputs."
     ]
    },
    {
     "cell_type": "code",
     "collapsed": false,
     "input": [
      "''' you should add code within this function'''\n",
      "def trainAvgPerceptron(N_its,inst_generator=all_tr_insts,labels=all_labels):\n",
      "    tr_acc = [None]*N_its\n",
      "    dv_acc = [None]*N_its\n",
      "    weights = weightsInitialize()\n",
      "    wsum = weightsInitialize()\n",
      "    t = 0\n",
      "    for i in xrange(0, N_its):\n",
      "        # You will define oneItAvgPerceptron below. Call it here.\n",
      "        weights,wsum,tr_err,tr_tot = oneItAvgPerceptron(inst_generator,weights,wsum,labels,t)\n",
      "        # When you are done with this training pass, compute the averaged weights, as shown above.\n",
      "        t = (i+1)*tr_tot\n",
      "        avg_weights = defaultdict(float)\n",
      "        for items ,value in weights.iteritems():\n",
      "                avg_weights[items] = value - (wsum.get(items) / t) \n",
      "        confusion = evalClassifier(avg_weights,'perc.txt')\n",
      "        dv_acc[i] = scorer.accuracy(confusion)\n",
      "        tr_acc[i] = 1. - tr_err/float(tr_tot)\n",
      "        print i,'dev:',dv_acc[i],'train:',tr_acc[i]\n",
      "    return weights, tr_acc, dv_acc"
     ],
     "language": "python",
     "metadata": {},
     "outputs": [],
     "prompt_number": 50
    },
    {
     "cell_type": "markdown",
     "metadata": {},
     "source": [
      "Your function oneItAvgPerceptron should be similar to oneItPerceptron, but it needs to take additional arguments to keep track of the running sum of weights, and the total number if instances seen. \n",
      "It also needs to output this information."
     ]
    },
    {
     "cell_type": "code",
     "collapsed": false,
     "input": [
      "''' you should add code within this function '''\n",
      "def oneItAvgPerceptron(inst_generator,weights,wsum,labels,t_init=0):\n",
      "    tr_err = 0\n",
      "    tempDict = defaultdict(float)\n",
      "    for i,(counts,label) in enumerate(inst_generator):\n",
      "        predictedLabel, tempDict= predict(counts,weights,labels)\n",
      "        if (predictedLabel) != label:\n",
      "            tr_err += 1\n",
      "            for word,vals in counts.iteritems():\n",
      "                weights[(predictedLabel,word)] =  weights.get((predictedLabel,word)) - vals\n",
      "                weights[(label,word)] = weights.get((label,word)) + vals\n",
      "                wsum[(predictedLabel,word)] = wsum.get((predictedLabel,word))- ((t_init + i+1) * vals)\n",
      "                wsum[(label,word)] = wsum.get((label,word)) + ((t_init + i+1) * vals)\n",
      "        weights[(label,offset)] = weights.get((label,offset)) + 1\n",
      "        weights[(predictedLabel,offset)] = weights.get((predictedLabel,offset)) - 1       \n",
      "    return weights, wsum, tr_err, (i+1)"
     ],
     "language": "python",
     "metadata": {},
     "outputs": [],
     "prompt_number": 51
    },
    {
     "cell_type": "markdown",
     "metadata": {},
     "source": [
      "**Deliverable 6b** (1 point): Train your classifier on trainkey for ten iterations, and plot the output, using the code in the cells below. "
     ]
    },
    {
     "cell_type": "code",
     "collapsed": false,
     "input": [
      "# again, this takes roughly 30 seconds for me\n",
      "w_ap,tr_acc_ap,dv_acc_ap = trainAvgPerceptron(10)"
     ],
     "language": "python",
     "metadata": {},
     "outputs": [
      {
       "output_type": "stream",
       "stream": "stdout",
       "text": [
        "0 dev: 0.628 train: 0.462\n",
        "1"
       ]
      },
      {
       "output_type": "stream",
       "stream": "stdout",
       "text": [
        " dev: 0.655 train: 0.61\n",
        "2"
       ]
      },
      {
       "output_type": "stream",
       "stream": "stdout",
       "text": [
        " dev: 0.656 train: 0.66\n",
        "3"
       ]
      },
      {
       "output_type": "stream",
       "stream": "stdout",
       "text": [
        " dev: 0.66 train: 0.699\n",
        "4"
       ]
      },
      {
       "output_type": "stream",
       "stream": "stdout",
       "text": [
        " dev: 0.662 train: 0.766\n",
        "5"
       ]
      },
      {
       "output_type": "stream",
       "stream": "stdout",
       "text": [
        " dev: 0.658 train: 0.772\n",
        "6"
       ]
      },
      {
       "output_type": "stream",
       "stream": "stdout",
       "text": [
        " dev: 0.669 train: 0.799\n",
        "7"
       ]
      },
      {
       "output_type": "stream",
       "stream": "stdout",
       "text": [
        " dev: 0.663 train: 0.823\n",
        "8"
       ]
      },
      {
       "output_type": "stream",
       "stream": "stdout",
       "text": [
        " dev: 0.663 train: 0.8645\n",
        "9"
       ]
      },
      {
       "output_type": "stream",
       "stream": "stdout",
       "text": [
        " dev: 0.661 train: 0.874\n"
       ]
      }
     ],
     "prompt_number": 52
    },
    {
     "cell_type": "code",
     "collapsed": false,
     "input": [
      "makePlots(tr_acc_ap,dv_acc_ap)"
     ],
     "language": "python",
     "metadata": {},
     "outputs": [
      {
       "metadata": {},
       "output_type": "display_data",
       "png": "[encoded data removed]",
       "text": [
        "<matplotlib.figure.Figure at 0xafd6490>"
       ]
      }
     ],
     "prompt_number": 54
    },
    {
     "cell_type": "markdown",
     "metadata": {},
     "source": [
      "**Sanity check** the dev set performance should be much better than the non-averaged perceptron"
     ]
    },
    {
     "cell_type": "markdown",
     "metadata": {},
     "source": [
      "**Deliverable 6c** (2 points) Use your getTopFeats function from pset 1a to compute the top five features for positive and negative classes, by contrasting the weights $\\theta_{pos,n} - \\theta_{neg,n}$ and $\\theta_{neg,n} - \\theta_{pos,n}$"
     ]
    },
    {
     "cell_type": "code",
     "collapsed": false,
     "input": [
      "def getTopFeats(weights,class1,class2,K=5):\n",
      "    class1_Dict = defaultdict(float)\n",
      "    class2_Dict = defaultdict(float)\n",
      "    class_Ratio = defaultdict(float)\n",
      "    for word,value in weights.iteritems():\n",
      "        if word[0] == class1:\n",
      "            class1_Dict[word[1]] = value\n",
      "        elif word[0] == class2:\n",
      "            class2_Dict[word[1]] = value\n",
      "    intersect = set(class1_Dict.keys()).intersection(set(class2_Dict.keys()))\n",
      "    for word in intersect:\n",
      "        class_Ratio[word] = class1_Dict[word] - class2_Dict[word]\n",
      "    sorted_list = sorted(class_Ratio.iteritems(), key=operator.itemgetter(1), reverse = True)\n",
      "    return sorted_list[:K]\n",
      "\n",
      "print getTopFeats(w_ap,'POS','NEG',K=5)\n",
      "print getTopFeats(w_ap,'NEG','POS',K=5)"
     ],
     "language": "python",
     "metadata": {},
     "outputs": [
      {
       "output_type": "stream",
       "stream": "stdout",
       "text": [
        "[('great', 271.0), ('excellent', 172.0), ('life', 152.0), ('wonderful', 143.0), ('makes', 138.0)]\n",
        "[('worst', 235.0), ('nothing', 187.0), ('bad', 179.0), ('no', 178.0), ('could', 174.0)]"
       ]
      },
      {
       "output_type": "stream",
       "stream": "stdout",
       "text": [
        "\n"
       ]
      }
     ],
     "prompt_number": 55
    },
    {
     "cell_type": "markdown",
     "metadata": {},
     "source": [
      "# 7. Logistic regression #"
     ]
    },
    {
     "cell_type": "code",
     "collapsed": false,
     "input": [
      "from scipy.misc import logsumexp #hint"
     ],
     "language": "python",
     "metadata": {},
     "outputs": [],
     "prompt_number": 56
    },
    {
     "cell_type": "markdown",
     "metadata": {},
     "source": [
      "**Deliverable 7a** (3 points): implement a function to compute the normalized probability of each label.\n",
      "\n",
      "- This function should have the same input arguments as your predict function\n",
      "- It should output a dict, from labels to probabilities\n",
      "- It will need to be fast. You may need to optimize this later. As always, %%prun and %%timeit are your friends."
     ]
    },
    {
     "cell_type": "code",
     "collapsed": false,
     "input": [
      "# compute the normalized probability of each label \n",
      "def computeLabelProbs(instance,weights,labels):\n",
      "    label_num = defaultdict(float)\n",
      "    expLabel_num = defaultdict(float)\n",
      "    normLabel = defaultdict(float)\n",
      "    log_normLabel = defaultdict(float)\n",
      "    log_num = defaultdict(float)\n",
      "    log_den = 0.0\n",
      "    common_d = 0.0\n",
      "    for lbl in labels:\n",
      "        for instance_items, value_counts in instance.iteritems():\n",
      "            label_num[lbl] = label_num.get((lbl),0) + value_counts * weights.get((lbl,instance_items),0)\n",
      "        log_num[lbl] = logsumexp([label_num[lbl]])\n",
      "    denominator = [v for k , v in label_num.items() ]\n",
      "    log_den = logsumexp(denominator)\n",
      "    for lbl in labels:\n",
      "        log_normLabel[lbl] = log_num.get(lbl) - log_den\n",
      "        normLabel[lbl] = scipy.exp(log_normLabel[lbl])\n",
      "    return normLabel"
     ],
     "language": "python",
     "metadata": {},
     "outputs": [],
     "prompt_number": 57
    },
    {
     "cell_type": "markdown",
     "metadata": {},
     "source": [
      "**sanity check**: your code should reproduce my results below"
     ]
    },
    {
     "cell_type": "code",
     "collapsed": false,
     "input": [
      "weights = defaultdict(float)\n",
      "weights[('NEG','bad')] = 1\n",
      "weights[('NEG','best')] = -1\n",
      "weights[('POS','bad')] = -0.5\n",
      "weights[('POS','best')] = 2\n",
      "weights[('NEU',offset)] = 3\n",
      "computeLabelProbs({'bad':1,'best':2,offset:1},weights,all_labels)"
     ],
     "language": "python",
     "metadata": {},
     "outputs": [
      {
       "metadata": {},
       "output_type": "pyout",
       "prompt_number": 58,
       "text": [
        "defaultdict(<type 'float'>, {'NEG': 0.0068674111043921151, 'NEU': 0.37494794181688146, 'POS': 0.61818464707872656})"
       ]
      }
     ],
     "prompt_number": 58
    },
    {
     "cell_type": "markdown",
     "metadata": {},
     "source": [
      "**Deliverable 7b** (4 points) Now implement logistic regression, training by stochastic gradient descent.\n",
      "\n",
      "- I've provided an outline of the code, including the regularization\n",
      "- You need to provide the code that computes the likelihood gradient for this instance\n",
      "- My best implementation is still pretty slow; it takes around 15 seconds per pass through the training set\n",
      "- Unlike the perceptron code, you can do everything within the single function trainLRbySGD\n",
      "- For a reminder about how SGD works, see my notes"
     ]
    },
    {
     "cell_type": "code",
     "collapsed": false,
     "input": [
      "def trainLRbySGD(N_its,inst_generator=all_tr_insts,learning_rate=1e-4,regularizer=1e-2):\n",
      "    w_dict = weightsInitialize()\n",
      "    dv_acc = [None]*N_its\n",
      "    tr_acc = [None]*N_its\n",
      "    liklihood_gradient = weightsInitialize()\n",
      "    labelProbs = defaultdict(float)\n",
      "    ratereg = learning_rate * regularizer #gratuitous optimization\n",
      "    \n",
      "    def regularize(base_feats,t):\n",
      "        for base_feat in base_feats:\n",
      "            for label in all_labels:\n",
      "                w_dict[(label,base_feat)] *= (1 - ratereg) ** (t-last_update[base_feat])\n",
      "            last_update[base_feat] = t\n",
      "\n",
      "    for it in xrange(N_its):\n",
      "        tr_err = 0\n",
      "        last_update = defaultdict(int) # reset, since we regularize at the end of every iteration\n",
      "        for i,(inst,true_label) in enumerate(inst_generator):\n",
      "            # apply \"just-in-time\" regularization to the weights for features in this instance\n",
      "            regularize(inst,i)\n",
      "            labelProbs = computeLabelProbs(inst, w_dict, all_labels)\n",
      "            maxval = max(labelProbs.iteritems(), key=operator.itemgetter(1))[1]  \n",
      "            predicted_class = [k for k,v in labelProbs.items() if v==maxval]\n",
      "            if true_label not in predicted_class:\n",
      "                tr_err  = tr_err + 1\n",
      "            for word, cnt in inst.iteritems():\n",
      "                for label in all_labels:\n",
      "                    if label == true_label:\n",
      "                        liklihood_gradient[(label,word)] = cnt - labelProbs.get(label) * cnt\n",
      "                    else:\n",
      "                        liklihood_gradient[(label,word)] = - labelProbs.get(label) * cnt\n",
      "            \n",
      "            for words, values in inst.iteritems():\n",
      "                for label in all_labels:\n",
      "                    w_dict[(label,words)] = w_dict.get((label,words),0) + learning_rate * liklihood_gradient.get((label,words)) \n",
      "            \n",
      "        regularize([base_feature for label,base_feature in w_dict.keys()],i)\n",
      "        \n",
      "        dv_acc[it] = scorer.accuracy(evalClassifier(w_dict,'sgd'))\n",
      "        tr_acc[it] = 1. - tr_err/float(i)\n",
      "        print it,'dev:',dv_acc[it],'train:',tr_acc[it]\n",
      "    return w_dict,tr_acc,dv_acc"
     ],
     "language": "python",
     "metadata": {},
     "outputs": [],
     "prompt_number": 98
    },
    {
     "cell_type": "markdown",
     "metadata": {},
     "source": [
      "** Deliverable 7c ** (1 point): run this code to see how it works."
     ]
    },
    {
     "cell_type": "code",
     "collapsed": false,
     "input": [
      "w_sgd,tr_acc_sgd,dv_acc_sgd = trainLRbySGD(10,regularizer=1e-2)\n",
      "makePlots(tr_acc_sgd,dv_acc_sgd)"
     ],
     "language": "python",
     "metadata": {},
     "outputs": [
      {
       "output_type": "stream",
       "stream": "stdout",
       "text": [
        "0 dev: 0.556 train: 0.541885471368\n",
        "1"
       ]
      },
      {
       "output_type": "stream",
       "stream": "stdout",
       "text": [
        " dev: 0.6 train: 0.616654163541\n",
        "2"
       ]
      },
      {
       "output_type": "stream",
       "stream": "stdout",
       "text": [
        " dev: 0.624 train: 0.650662665666\n",
        "3"
       ]
      },
      {
       "output_type": "stream",
       "stream": "stdout",
       "text": [
        " dev: 0.63 train: 0.670667666917\n",
        "4"
       ]
      },
      {
       "output_type": "stream",
       "stream": "stdout",
       "text": [
        " dev: 0.645 train: 0.687671917979\n",
        "5"
       ]
      },
      {
       "output_type": "stream",
       "stream": "stdout",
       "text": [
        " dev: 0.648 train: 0.697424356089\n",
        "6"
       ]
      },
      {
       "output_type": "stream",
       "stream": "stdout",
       "text": [
        " dev: 0.648 train: 0.712428107027\n",
        "7"
       ]
      },
      {
       "output_type": "stream",
       "stream": "stdout",
       "text": [
        " dev: 0.66 train: 0.722930732683\n",
        "8"
       ]
      },
      {
       "output_type": "stream",
       "stream": "stdout",
       "text": [
        " dev: 0.66 train: 0.733683420855\n",
        "9"
       ]
      },
      {
       "output_type": "stream",
       "stream": "stdout",
       "text": [
        " dev: 0.665 train: 0.741935483871\n"
       ]
      },
      {
       "metadata": {},
       "output_type": "display_data",
       "png": "[encoded data removed]",
       "text": [
        "<matplotlib.figure.Figure at 0xa910fd0>"
       ]
      }
     ],
     "prompt_number": 99
    },
    {
     "cell_type": "markdown",
     "metadata": {},
     "source": [
      "** Deliverable 7d ** (1 point): try two other regularizers, one greater than 1e-2, and one less. \n",
      "\n",
      "- print the same output.\n",
      "- store the weights separately"
     ]
    },
    {
     "cell_type": "code",
     "collapsed": false,
     "input": [
      "w_sgd_more,tr_acc_sgd_more,dv_acc_sgd_more = trainLRbySGD(10,regularizer=50)\n",
      "makePlots(tr_acc_sgd_more,dv_acc_sgd_more)\n"
     ],
     "language": "python",
     "metadata": {},
     "outputs": [
      {
       "output_type": "stream",
       "stream": "stdout",
       "text": [
        "0 dev: 0.453 train: 0.454363590898\n",
        "1"
       ]
      },
      {
       "output_type": "stream",
       "stream": "stdout",
       "text": [
        " dev: 0.453 train: 0.456114028507\n",
        "2"
       ]
      },
      {
       "output_type": "stream",
       "stream": "stdout",
       "text": [
        " dev: 0.453 train: 0.456114028507\n",
        "3"
       ]
      },
      {
       "output_type": "stream",
       "stream": "stdout",
       "text": [
        " dev: 0.453 train: 0.456114028507\n",
        "4"
       ]
      },
      {
       "output_type": "stream",
       "stream": "stdout",
       "text": [
        " dev: 0.453 train: 0.456114028507\n",
        "5"
       ]
      },
      {
       "output_type": "stream",
       "stream": "stdout",
       "text": [
        " dev: 0.453 train: 0.456114028507\n",
        "6"
       ]
      },
      {
       "output_type": "stream",
       "stream": "stdout",
       "text": [
        " dev: 0.453 train: 0.456114028507\n",
        "7"
       ]
      },
      {
       "output_type": "stream",
       "stream": "stdout",
       "text": [
        " dev: 0.453 train: 0.456114028507\n",
        "8"
       ]
      },
      {
       "output_type": "stream",
       "stream": "stdout",
       "text": [
        " dev: 0.453 train: 0.456114028507\n",
        "9"
       ]
      },
      {
       "output_type": "stream",
       "stream": "stdout",
       "text": [
        " dev: 0.453 train: 0.456114028507\n"
       ]
      },
      {
       "metadata": {},
       "output_type": "display_data",
       "png": "[encoded data removed]",
       "text": [
        "<matplotlib.figure.Figure at 0xa6ce890>"
       ]
      }
     ],
     "prompt_number": 100
    },
    {
     "cell_type": "code",
     "collapsed": false,
     "input": [
      "w_sgd_less,tr_acc_sgd_less,dv_acc_sgd_less = trainLRbySGD(10,regularizer=1e-8)\n",
      "makePlots(tr_acc_sgd_less,dv_acc_sgd_less)"
     ],
     "language": "python",
     "metadata": {},
     "outputs": [
      {
       "output_type": "stream",
       "stream": "stdout",
       "text": [
        "0 dev: 0.556 train: 0.541885471368\n",
        "1"
       ]
      },
      {
       "output_type": "stream",
       "stream": "stdout",
       "text": [
        " dev: 0.598 train: 0.616904226057\n",
        "2"
       ]
      },
      {
       "output_type": "stream",
       "stream": "stdout",
       "text": [
        " dev: 0.623 train: 0.651912978245\n",
        "3"
       ]
      },
      {
       "output_type": "stream",
       "stream": "stdout",
       "text": [
        " dev: 0.63 train: 0.671667916979\n",
        "4"
       ]
      },
      {
       "output_type": "stream",
       "stream": "stdout",
       "text": [
        " dev: 0.645 train: 0.688422105526\n",
        "5"
       ]
      },
      {
       "output_type": "stream",
       "stream": "stdout",
       "text": [
        " dev: 0.65 train: 0.69967491873\n",
        "6"
       ]
      },
      {
       "output_type": "stream",
       "stream": "stdout",
       "text": [
        " dev: 0.647 train: 0.712428107027\n",
        "7"
       ]
      },
      {
       "output_type": "stream",
       "stream": "stdout",
       "text": [
        " dev: 0.661 train: 0.724181045261\n",
        "8"
       ]
      },
      {
       "output_type": "stream",
       "stream": "stdout",
       "text": [
        " dev: 0.661 train: 0.735183795949\n",
        "9"
       ]
      },
      {
       "output_type": "stream",
       "stream": "stdout",
       "text": [
        " dev: 0.665 train: 0.74368592148\n"
       ]
      },
      {
       "metadata": {},
       "output_type": "display_data",
       "png": "[encoded data removed]",
       "text": [
        "<matplotlib.figure.Figure at 0x13f94710>"
       ]
      }
     ],
     "prompt_number": 101
    },
    {
     "cell_type": "markdown",
     "metadata": {},
     "source": [
      "**Deliverable 7e** (1 point): compute the top five features for each set of weights (from each regularizer), using your getTopFeats function. Explain what the resulting feature weights show about the effect of regularization."
     ]
    },
    {
     "cell_type": "code",
     "collapsed": false,
     "input": [
      "print \"The top 5 features when regularizer is more :\"\n",
      "print getTopFeats(w_sgd_more,'POS','NEG',K=5)\n",
      "print getTopFeats(w_sgd_more,'NEG','POS',K=5)\n",
      "\n",
      "print \"The top 5 features when regularizer is less :\"\n",
      "print getTopFeats(w_sgd_less,'POS','NEG',K=5)\n",
      "print getTopFeats(w_sgd_less,'NEG','POS',K=5)\n"
     ],
     "language": "python",
     "metadata": {},
     "outputs": [
      {
       "output_type": "stream",
       "stream": "stdout",
       "text": [
        "The top 5 features when regularizer is more :\n",
        "[('great', 0.0030452688056328845), ('best', 0.0018276302614271449), ('story', 0.0014114253166265162), ('wonderful', 0.0013395028051594511), ('also', 0.0012794942434056261)]"
       ]
      },
      {
       "output_type": "stream",
       "stream": "stdout",
       "text": [
        "\n",
        "[('movie', 0.0077844493776414968), ('br', 0.0058531527400338228), ('bad', 0.0037948902012485122), ('would', 0.0026641443898324287), ('could', 0.0022145153703363673)]"
       ]
      },
      {
       "output_type": "stream",
       "stream": "stdout",
       "text": [
        "\n",
        "The top 5 features when regularizer is less :\n",
        "[('great', 0.35670683687358234), ('best', 0.22766039883696185), ('well', 0.17764307634117774), ('also', 0.15986756940672869), ('love', 0.15069652240281595)]"
       ]
      },
      {
       "output_type": "stream",
       "stream": "stdout",
       "text": [
        "\n",
        "[('bad', 0.33984048446473086), ('even', 0.20504110894515032), ('worst', 0.19662289051473011), ('could', 0.16480389580201427), ('awful', 0.13312345507358581)]"
       ]
      },
      {
       "output_type": "stream",
       "stream": "stdout",
       "text": [
        "\n"
       ]
      }
     ],
     "prompt_number": 102
    },
    {
     "cell_type": "markdown",
     "metadata": {},
     "source": [
      "Explanation: \n",
      "The regaularizer was varied from very low to high values.Generally the feature weights don't change for wide variation in regularizer from $1e^(-8)$ to 1. This shows that regularizer has little effect on the performance of classifier. The regularizing term $0.5*\\lambda*{\\theta}^2} penalizes the large values of theta and thereby prevents the system from being a complex model. Since for the wide variation in $\\lambda$, this term remains negligible, it means weights are really low and that resulting model is a simple one.\n",
      "\n"
     ]
    },
    {
     "cell_type": "markdown",
     "metadata": {},
     "source": [
      "** Extra credit ** (2 points): My implementation of regularization looks pretty different from how it is explained in the reading, but I claim that my regularizer is functionally identical. What's going on? Can you explain why I'm right or why I'm wrong?"
     ]
    },
    {
     "cell_type": "markdown",
     "metadata": {},
     "source": [
      "The regularizer term in gradient descent comes out to be : $ (-\\lambda)(\\theta).\n",
      "    In the funtion regularize, weights is decreased by the term : (1-ratereg)* current_weight , each time it runs in the loop.\n",
      "    Thus regularization effect is obtained"
     ]
    },
    {
     "cell_type": "markdown",
     "metadata": {},
     "source": [
      "# 8. Making it better #\n",
      "\n",
      "In this independent component, will improve your classifiers from either pset 1a or 1b. There are two general paths for improving these classifiers: data and algorithms.\n",
      "\n",
      "- Data-oriented approaches relate to the features. For example, you could try to use bigrams, remove stopwords, lemmatize (using wordnet), etc. Or, you could try non-linear feature combinations such as the presence of pairs of words, etc.\n",
      "- Algorithm-oriented approaches relate to the learning itself. For example, you could implement Passive-Aggressive, AdaGrad (described in my notes), feature hashing (see [this paper](http://alex.smola.org/papers/2009/Weinbergeretal09.pdf)), alternative regularizers, or various improvements to naive bayes (see [this paper](http://people.csail.mit.edu/jrennie/papers/icml03-nb.pdf)). Note that not all these approaches will improve accuracy; some will improve speed. You may want to look into some of the supplemental reading to get ideas for improvements.\n",
      "- Students in 4650 should try one improvement of either type; students in 7650 should try one improvement of each type.\n",
      "\n",
      "**Deliverable 8** (3 points for 4650; 6 points for 7650): Clearly explain what you did, and why you thought it would\n",
      "work. Do an experiment to test whether it works. Creativity and thoughtfulness counts more than raw performance here."
     ]
    },
    {
     "cell_type": "raw",
     "metadata": {},
     "source": [
      "a) Data Oriented Approach:\n",
      "In this part , I have removed stopwrds using nltk corpus. Further I lemmatized the resulting dictionary using Wordnet lemmatizer. The stop words helped in removing inconclusive words like 'the' , 'is' and thereby reducing chances of misclassification. Lemmatization helped in agrregating the words in their base form which helps in stregthing the learning.\n",
      "I passed the resulting dictionary to Avg_Perceptron for learning.\n",
      " "
     ]
    },
    {
     "cell_type": "code",
     "collapsed": false,
     "input": [
      "from nltk.corpus import stopwords\n",
      "stopwords = stopwords.words('english')\n",
      "# Counter_stop = { w : k  for w : k in Counter if w not in stopwords]\n",
      "wnl = nltk.WordNetLemmatizer()\n",
      "all_tr_insts_lemma = []\n",
      "\n",
      "for inst,label in dataIterator(trainkey):\n",
      "    inst_stop = { w:k for w , k in inst.iteritems() if w not in stopwords}\n",
      "    inst_lemma = { wnl.lemmatize(w): k for w , k in inst_stop.iteritems() }\n",
      "    temp_Counter = Counter(inst_lemma)\n",
      "    all_tr_insts_lemma.append((dict(temp_Counter),label))\n",
      "#     ac_train += Counter(inst_lemma)\n",
      "all_dev_insts = []\n",
      "for inst,label in dataIterator(devkey):\n",
      "    all_dev_insts.append((inst,label))   \n",
      "    \n",
      "w_ap1,tr_acc_ap,dv_acc_ap = trainAvgPerceptron(10,all_tr_insts_lemma)\n",
      "  "
     ],
     "language": "python",
     "metadata": {},
     "outputs": [
      {
       "output_type": "stream",
       "stream": "stdout",
       "text": [
        "0 dev: 0.638 train: 0.5235\n",
        "1"
       ]
      },
      {
       "output_type": "stream",
       "stream": "stdout",
       "text": [
        " dev: 0.641 train: 0.7705\n",
        "2"
       ]
      },
      {
       "output_type": "stream",
       "stream": "stdout",
       "text": [
        " dev: 0.659 train: 0.8345\n",
        "3"
       ]
      },
      {
       "output_type": "stream",
       "stream": "stdout",
       "text": [
        " dev: 0.668 train: 0.91\n",
        "4"
       ]
      },
      {
       "output_type": "stream",
       "stream": "stdout",
       "text": [
        " dev: 0.676 train: 0.9375\n",
        "5"
       ]
      },
      {
       "output_type": "stream",
       "stream": "stdout",
       "text": [
        " dev: 0.677 train: 0.948\n",
        "6"
       ]
      },
      {
       "output_type": "stream",
       "stream": "stdout",
       "text": [
        " dev: 0.669 train: 0.9645\n",
        "7"
       ]
      },
      {
       "output_type": "stream",
       "stream": "stdout",
       "text": [
        " dev: 0.67 train: 0.965\n",
        "8"
       ]
      },
      {
       "output_type": "stream",
       "stream": "stdout",
       "text": [
        " dev: 0.667 train: 0.9745\n",
        "9"
       ]
      },
      {
       "output_type": "stream",
       "stream": "stdout",
       "text": [
        " dev: 0.673 train: 0.9715\n"
       ]
      }
     ],
     "prompt_number": 103
    },
    {
     "cell_type": "raw",
     "metadata": {},
     "source": [
      "EM Classifier for specialized case of Naive Bayes:\n",
      "All the training instances are divided into seen ones with label and unseen ones without them.\n",
      "Naive Bayes is used on seen instances for an initial choice of weights.\n",
      "\n",
      "After that , Both E and M steps have been performed for 10 iterations. For each iteration a weight vector is selected among 5 possible ones, and the one giving hihest objective function is selcted for next iteration."
     ]
    },
    {
     "cell_type": "code",
     "collapsed": false,
     "input": [
      "8b) \n",
      "\n",
      "all_tr_insts_seen = all_tr_insts[::2] \n",
      "all_tr_insts_unseent = all_tr_insts[1::2]\n",
      "\n",
      "all_tr_insts_unseen = [ (v,\" \") for ( v , k) in all_tr_insts_unseent]\n",
      " \n",
      "def getCounts_seen(datait):\n",
      "    pos_counts = Counter()\n",
      "    neg_counts = Counter()\n",
      "    neu_counts = Counter()\n",
      "    global neg_docCount,pos_docCount, neu_docCount\n",
      "    neg_docCount = 0 \n",
      "    pos_docCount = 0\n",
      "    neu_docCount = 0\n",
      "    \n",
      "    for fcounts, label in datait:\n",
      "        if label == 'POS':\n",
      "            pos_counts += Counter(fcounts)\n",
      "            pos_docCount += 1\n",
      "        elif label == 'NEG':\n",
      "            neg_counts += Counter(fcounts)\n",
      "            neg_docCount += 1\n",
      "        elif label == 'NEU':\n",
      "            neu_counts += Counter(fcounts)\n",
      "            neu_docCount += 1\n",
      "#    total_docCount  = pos_docCount + neg_docCount + neu_docCount\n",
      "    return pos_counts,neg_counts,neu_counts\n",
      "\n",
      "pos_train,neg_train,neu_train  = getCounts_seen(all_tr_insts_seen) \n",
      "pos_sum = sum(pos_train.values())\n",
      "neg_sum = sum(neg_train.values())\n",
      "neu_sum = sum(neu_train.values())\n",
      "\n",
      "pos_sum1 = len(pos_train.keys())\n",
      "neg_sum1 = len(neg_train.keys())\n",
      "neu_sum1 = len(neu_train.keys())\n",
      "\n",
      "total_words = pos_sum1 + neg_sum1 + neu_sum1\n",
      "total_docCount  = pos_docCount + neg_docCount + neu_docCount\n",
      "\n",
      "all_labels = ['POS','NEG','NEU']\n",
      "\n",
      "def learnNBWeights(alpha=0.1):\n",
      "    weights = weightsInitialize()# your code here\n",
      "    bayes_numerator = float()\n",
      "    bayes_denominator = float()\n",
      "    log_phi = float()\n",
      "    \n",
      "    for word in pos_train:\n",
      "        bayes_numerator = pos_train[word] + alpha\n",
      "        bayes_denominator = pos_sum + total_words*alpha\n",
      "        log_phi = np.log(bayes_numerator) - np.log(bayes_denominator)\n",
      "        weights.update({('POS',word): log_phi})\n",
      "        \n",
      "    for word in neg_train:\n",
      "        bayes_numerator = neg_train[word] + alpha\n",
      "        bayes_denominator = neg_sum + total_words*alpha\n",
      "        log_phi = np.log(bayes_numerator) - np.log(bayes_denominator)\n",
      "        weights.update({('NEG',word): log_phi})\n",
      "        \n",
      "    for word in neu_train:\n",
      "        bayes_numerator = neu_train[word] + alpha\n",
      "        bayes_denominator = neu_sum + total_words*alpha\n",
      "        log_phi = np.log(bayes_numerator) - np.log(bayes_denominator)\n",
      "        weights.update({('NEU',word): log_phi})\n",
      "    \n",
      "    weights.update({('POS',offset): (np.log(pos_docCount)- np.log(total_docCount))})\n",
      "    weights.update({('NEG',offset): (np.log(neg_docCount)- np.log(total_docCount))})\n",
      "    weights.update({('NEU',offset): (np.log(neu_docCount)- np.log(total_docCount))})  \n",
      "    return weights  \n",
      "\n",
      "def weightsRandomize(weights):\n",
      "    temp_weights = weightsInitialize(float)\n",
      "    for i,(inst,label) in enumerate(all_tr_insts):\n",
      "        for word , count in inst.iteritems():\n",
      "            for lb in all_labels:\n",
      "                temp_weights[(lb,word)] = temp_weights.get((lb,word),0) + round(np.random.uniform(-0.25, 0.25), 10)\n",
      "                \n",
      "    return temp_weights\n",
      "    \n",
      "def EvalEm1(N_its,pos_docCount,neg_docCount,neu_docCount):\n",
      "    dv_acc = [None]*N_its\n",
      "    tr_acc = [None]*N_its\n",
      "    weights = [None]*N_its\n",
      "    weights[0] =  learnNBWeights(0.1)\n",
      "    tr_err = 0\n",
      "    \n",
      "     \n",
      "    for it in xrange(N_its):  \n",
      "             \n",
      "        conditional_prob_x_y_t = defaultdict(float)\n",
      "        cond_prob_y_x_t = defaultdict(float)\n",
      "            \n",
      "        for i, (inst , label) in enumerate(all_tr_insts):\n",
      "            predictedLabel,scores = predict(inst, weights[it])\n",
      "            common_d = scores.get('POS',0) + scores.get('NEG',0) + scores.get('NEU',0)\n",
      "            for lb in all_labels:\n",
      "                cond_prob_y_x_t[(lb,i)] = scores.get(lb,0) / common_d\n",
      "            \n",
      "            print pos_docCount\n",
      "            print neg_docCount\n",
      "            print neu_docCount  \n",
      "                \n",
      "            final_deno = 0.0   \n",
      "            final_deno = ((pos_docCount / float(2000))* cond_prob_y_x_t.get('POS',i)) +   ((neg_docCount / float(2000))* cond_prob_y_x_t.get('NEG',i)) + ((neu_docCount / float(2000))* cond_prob_y_x_t.get('NEU',i))\n",
      "            print final_deno\n",
      "                \n",
      "                \n",
      "            conditional_prob_x_y_t[(i,'POS')] = (( pos_docCount / 2000) * cond_prob_y_x_t.get('POS',i) ) / float(final_deno)\n",
      "            conditional_prob_x_y_t[(i,'NEG')] = (( neg_docCount / 2000) * cond_prob_y_x_t.get('NEG',i) ) / float(final_deno)\n",
      "            conditional_prob_x_y_t[(i,'NEU')] = (( neu_docCount / 2000) * cond_prob_y_x_t.get('NEU',i) ) / float(final_deno)\n",
      "    \n",
      "            \n",
      "        qt_ysum = defaultdict(float)\n",
      "        qt_y = defaultdict(float)\n",
      "            \n",
      "        for lbl in all_labels:\n",
      "            for i, (inst,label) in enumerate (all_tr_insts):\n",
      "                qt_ysum[lbl] += cond_prob_y_x_t.get((i,lbl),0)\n",
      "            qt_y[lbl] = qt_ysum[lbl] / (2000)\n",
      "                \n",
      "        qt_x_y = defaultdict(float)\n",
      "            \n",
      "        for lbl in all_labels:\n",
      "            for i, (inst,lbl) in enumerate( all_tr_insts):\n",
      "                qt_x_y[(label,i)] = conditional_prob_x_y_t.get((i,lbl),0) / qt_ysum[lbl]\n",
      "            \n",
      "    #         for lbl in all_labels:\n",
      "        q_y = defaultdict(float)\n",
      "        q_y['POS'] = pos_docCount / 2000\n",
      "        q_y['NEG'] = neg_docCount / 2000\n",
      "        q_y['NEU'] = neu_docCount / 2000\n",
      "                \n",
      "                 \n",
      "        cond_prob_y_xi = defaultdict(float)\n",
      "        log_term = defaultdict(float)\n",
      "        temp_weights = [None]*5\n",
      "        conditional_prob_x_y_temp = defaultdict(float)\n",
      "        sum = [None]*5 \n",
      "        for x in xrange(5):\n",
      "               \n",
      "            temp_weights[x] = weightsRandomize(weights) \n",
      "            \n",
      "            \n",
      "            \n",
      "            for i , (inst,lbl) in enumerate(all_tr_insts):\n",
      "                \n",
      "                predictLabel,scr = predict(inst, temp_weights[i])\n",
      "                common_d = scr.get('POS',0) + scr.get('NEG',0) + scr.get('NEU',0)\n",
      "                sum = 0.0\n",
      "                for label in all_labels:\n",
      "                    cond_prob_y_xi[label] = scr.get(label,0) / common_d\n",
      "                \n",
      "                temp_final_deno = ((pos_docCount / 2000)* cond_prob_y_x_t.get('POS')) +   ((neg_docCount / 2000)* cond_prob_y_x_t.get('NEG')) + ((neu_docCount / 2000)* cond_prob_y_x_t.get('NEU'))\n",
      "                \n",
      "                conditional_prob_x_y_temp[(i,'POS')] = (( pos_docCount / 2000) * cond_prob_y_xi.get('POS') ) / final_deno\n",
      "                conditional_prob_x_y_temp[(i,'NEG')] = (( neg_docCount / 2000) * cond_prob_y_xi.get('NEG') ) / final_deno\n",
      "                conditional_prob_x_y_temp[(i,'NEU')] = (( neu_docCount / 2000) * cond_prob_y_xi.get('NEU') ) / final_deno    \n",
      "                    \n",
      "                qtemp_ysum = defaultdict(float)\n",
      "                qtemp_y = defaultdict(float)\n",
      "            \n",
      "                for lbl in all_labels:\n",
      "                    for i, (inst,label) in enumerate (all_tr_insts):\n",
      "                        qtemp_ysum[lbl] += cond_prob_y_x_t.get((i,lbl),0)\n",
      "                        qtemp_y[lbl] = qt_ysum[lbl] / (2000)\n",
      "                        \n",
      "                qtemp_x_y = defaultdict(float)\n",
      "            \n",
      "                for lbl in all_labels:\n",
      "                    for i, (inst,lbl) in enumerate( all_tr_insts):\n",
      "                        qtemp_x_y[(label,i)] = conditional_prob_x_y_temp.get((i,lbl),0) / qtemp_ysum[lbl]\n",
      "                    \n",
      "                log_term[label] = np.log ( qtemp_y.get(label) * qtemp_x_y.get((label,i)))\n",
      "                \n",
      "                inner_sum = 0.0\n",
      "                for label in all_labels:\n",
      "                    inner_sum += cond_prob_y_x_t.get((label)) * log_term.get(label)\n",
      "                \n",
      "                sum[x] += inner_sum\n",
      "        \n",
      "        max = -9999        \n",
      "        index = -1\n",
      "        for i in xrange (5):\n",
      "            if sum[i] > max:\n",
      "                index = i\n",
      "                max = sum[i] \n",
      "        \n",
      "        weights[x+1] = temp_weights[index]\n",
      "      \n",
      "        confusion = evalClassifier(weights[10],'aaa.txt') #evaluate on dev data\n",
      "              \n",
      "        dv_acc[it] = scorer.accuracy(confusion) #compute accuracy\n",
      "        tr_acc[it] = 1. - tr_err/float(i)\n",
      "        print it,'dev:',dv_acc[it],'train:',tr_acc[it]\n",
      "#        \n",
      "    return dv_acc ,tr_acc,weights\n",
      "\n",
      "\n",
      "\n",
      "    \n",
      "dv_acc,tr_cc, weights = EvalEm1(10,pos_docCount,neg_docCount,neu_docCount)"
     ],
     "language": "python",
     "metadata": {},
     "outputs": []
    },
    {
     "cell_type": "markdown",
     "metadata": {},
     "source": [
      "# 9. Bakeoff! #\n",
      "\n",
      "48 hours before the assignment is due, I will send you unlabeled test\n",
      "data. Your job is to produce a response file that I can evaluate. I'll \n",
      "present the results in class and give the best scorers a chance to explain\n",
      "what they did.\n",
      "\n",
      "** Deliverable 10 ** (3 points) Run your best system from any part of the\n",
      "assignment on the test data. Recall that evalClassifier() produces a response file. Rename this file \n",
      "lastname-firstname.response, and include it in your submission on T-Square. (Please get this \n",
      "filename right, otherwise we may miss your submission to the bakeoff.) The top scores will be announced in\n",
      "class.\n"
     ]
    },
    {
     "cell_type": "code",
     "collapsed": false,
     "input": [
      "from nltk.tokenize import word_tokenize, sent_tokenize\n",
      "\n",
      "\n",
      "def dataIterator_test(keyfile,test_mode=False):\n",
      "    with open(keyfile.replace('key','bow'),'r') as bows:\n",
      "        with open(keyfile,'r') as keys:\n",
      "            for keyline in keys:\n",
      "                if test_mode:\n",
      "                    label = 'UNK'\n",
      "                else:\n",
      "                    textloc,label = keyline.rstrip().split(' ')\n",
      "                fcounts = {word:int(count) for word,count in\\\n",
      "                           [x.split(':') for x in bows.readline().rstrip().split(' ')]}\n",
      "                fcounts[offset] = 1\n",
      "                yield fcounts,label\n",
      "                \n",
      "def evalClassifier_test(weights,outfilename,testfile=devkey,test_mode=False):    \n",
      "    with open(outfilename,'w') as outfile:\n",
      "        for counts,label in dataIterator_test(testfile,test_mode): #iterate through eval set\n",
      "            print >>outfile, predict(counts,weights,all_labels)[0] #print prediction to file\n",
      "    if test_mode:\n",
      "        return\n",
      "    else:\n",
      "        return scorer.getConfusion(testfile,outfilename) #run the scorer on the prediction file\n",
      "    \n",
      "\n",
      "def docsToBOWs(keyfile):\n",
      "    with open(keyfile,'r') as keys:\n",
      "        with open(keyfile.replace('.key','.bow'),'w') as outfile:\n",
      "            for keyline in keys:\n",
      "                dataloc = keyline.rstrip().split(' ')[0]\n",
      "                fcounts = dict()\n",
      "                with open(dataloc,'r') as infile:\n",
      "                    for line in infile: \n",
      "                        l = line.decode('ascii', 'ignore')\n",
      "                        token_sent = sent_tokenize(l)\n",
      "                        for s in token_sent:\n",
      "                            token_word = word_tokenize(s)\n",
      "                            for w in token_word:\n",
      "                                if w.isalpha():\n",
      "                                    w = w.lower()\n",
      "                                    if fcounts.has_key(w):\n",
      "                                        fcounts[w] += 1\n",
      "                                    else:\n",
      "                                        fcounts[w] = 1\n",
      "                for word,count in fcounts.items():\n",
      "                    print >>outfile,\"{}:{}\".format(word,count), #write the word and its count to a line\n",
      "                print >>outfile,\"\"\n",
      "                \n"
     ],
     "language": "python",
     "metadata": {},
     "outputs": [],
     "prompt_number": 95
    },
    {
     "cell_type": "code",
     "collapsed": false,
     "input": [
      "docsToBOWs(testkey)"
     ],
     "language": "python",
     "metadata": {},
     "outputs": [],
     "prompt_number": 96
    },
    {
     "cell_type": "code",
     "collapsed": false,
     "input": [
      "\n",
      "evalClassifier_test(w_ap,\"Singh-Aashu.response\",testfile=testkey,test_mode=True)   "
     ],
     "language": "python",
     "metadata": {},
     "outputs": [],
     "prompt_number": 106
    },
    {
     "cell_type": "code",
     "collapsed": false,
     "input": [],
     "language": "python",
     "metadata": {},
     "outputs": []
    }
   ],
   "metadata": {}
  }
 ]
}